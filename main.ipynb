{
 "cells": [
  {
   "cell_type": "markdown",
   "source": [],
   "metadata": {
    "collapsed": false
   },
   "id": "8514cd52937a8dcc"
  },
  {
   "cell_type": "markdown",
   "source": [
    "وارد کردن توابع مورد نیاز کد    ا"
   ],
   "metadata": {
    "collapsed": false
   },
   "id": "2a36dc963efce545"
  },
  {
   "cell_type": "code",
   "execution_count": 1,
   "id": "initial_id",
   "metadata": {
    "collapsed": true,
    "ExecuteTime": {
     "end_time": "2023-11-28T18:37:16.692916800Z",
     "start_time": "2023-11-28T18:37:15.904279800Z"
    }
   },
   "outputs": [],
   "source": [
    "import copy\n",
    "import streamlit as st"
   ]
  },
  {
   "cell_type": "code",
   "execution_count": 2,
   "outputs": [],
   "source": [
    "def create_initial_state():\n",
    "    initial_state = [[0] * 3 for _ in range(3)]\n",
    "    index = 0\n",
    "    for i in range(3):\n",
    "        for j in range(3):\n",
    "            num = st.number_input(f\"Enter a number between 0 and 8 for z[{i},{j}]: \", min_value=0, max_value=8, key=f\"num_{i}_{j}\")\n",
    "            if 0 <= num <= 8 and num not in initial_state:\n",
    "                initial_state[i][j] = num\n",
    "            else:\n",
    "                st.error(\"❌Invalid input❌. Please enter a number between 0 and 8 for the next try! 👀\")\n",
    "                st.stop()\n",
    "            index += 1\n",
    "    return initial_state"
   ],
   "metadata": {
    "collapsed": false,
    "ExecuteTime": {
     "end_time": "2023-11-28T18:37:16.699994200Z",
     "start_time": "2023-11-28T18:37:16.696496300Z"
    }
   },
   "id": "c24b59a2e956a9c4"
  },
  {
   "cell_type": "markdown",
   "source": [
    " تابع `create_initial_state` برای ایجاد یک وضعیت اولیه (initial state) برای یک پازل از کاربر استفاده می‌کند. در اینجا توضیحات جزیی به کارهایی که این تابع انجام می‌دهد، ارائه شده است:\n",
    "\n",
    "1. یک: `initial_state = [[0] * 3 for _ in range(3)]`: یک لیست دوبعدی به نام `initial_state` ایجاد می‌شود که ابعاد آن 3 در 3 است. این لیست با مقادیر اولیه 0 پر می‌شود.\n",
    "\n",
    "2. دو: `index = 0`: یک متغیر `index` ایجاد می‌شود که در ادامه برای شمارش موقعیت‌های درخواستی از کاربر مورد استفاده قرار می‌گیرد.\n",
    "\n",
    "3. سه: `for i in range(3):`: یک حلقه for برای تعیین مقدار‌های سطرها (i) شروع می‌شود.\n",
    "\n",
    "4.  چهار: `for j in range(3):`: یک حلقه for دیگر برای تعیین مقدار‌های ستون‌ها (j) شروع می‌شود.\n",
    "\n",
    "5. پنج: `num = st.number_input(f\"Enter a number between 0 and 8 for z[{i},{j}]: \", min_value=0, max_value=8, key=f\"num_{i}_{j}\")`: از کاربر خواسته می‌شود تا یک عدد صحیح بین 0 تا 8 وارد کند. این ورودی توسط `st.number_input` در Streamlit گرفته می‌شود و در `num` ذخیره می‌شود.\n",
    "\n",
    "6. شش:  `if 0 <= num <= 8 and num not in initial_state:`: شرطی بررسی می‌شود که اگر `num` بین 0 تا 8 باشد و قبلاً در `initial_state` قرار نگرفته باشد، مقدار `num` در ماتریس `initial_state` در موقعیت مشخص شده (i, j) ذخیره می‌شود.\n",
    "\n",
    "7. هفت: `else:`: در صورتی که شرط بالا برقرار نباشد (یعنی `num` خارج از محدوده یا قبلاً در `initial_state` وجود داشته باشد)، وارد بلوک `else` می‌شود.\n",
    "\n",
    "8.  هشت: `st.error(\"❌Invalid input❌. Please enter a number between 0 and 8 for the next try! 👀\")`: یک پیام خطا با استفاده از `st.error` به کاربر نمایش داده می‌شود.\n",
    "\n",
    "9. نه: `st.stop()`: اجرای برنامه متوقف می‌شود و کاربر باید دوباره اجرای برنامه را آغاز کند.\n",
    "\n",
    "10. ده: `index += 1`: مقدار `index` یک واحد افزایش می‌یابد.\n",
    "\n",
    "11. یازده: حلقه‌های `for` به ازای ستون‌ها و سطرها ادامه پیدا می‌کنند.\n",
    "\n",
    "12. دوازده: `return initial_state`: نهایتاً ماتریس `initial_state` که حاوی اعدادی است که کاربر وارد کرده است، به عنوان وضعیت اولیه برنامه بازمی‌گردانده می‌شود.ا"
   ],
   "metadata": {
    "collapsed": false
   },
   "id": "e0c8c85395e87ad1"
  },
  {
   "cell_type": "code",
   "execution_count": 3,
   "outputs": [],
   "source": [
    "def print_table(state):\n",
    "    custom_css = \"\"\"\n",
    "           <style>\n",
    "               .tabless {\n",
    "                   text-align: center;\n",
    "               }\n",
    "               td, th {\n",
    "                text-align: center;\n",
    "            }\n",
    "           </style>\n",
    "       \"\"\"\n",
    "    st.markdown(custom_css, unsafe_allow_html=True)\n",
    "    st.table(state)"
   ],
   "metadata": {
    "collapsed": false,
    "ExecuteTime": {
     "end_time": "2023-11-28T18:37:17.888890100Z",
     "start_time": "2023-11-28T18:37:17.880353600Z"
    }
   },
   "id": "2d0165bcff0b4f0a"
  },
  {
   "cell_type": "markdown",
   "source": [
    "این کد یک تابع به نام `print_table` ایجاد می‌کند که برای نمایش یک جدول در Streamlit استفاده می‌شود. در زیر توضیحات جزیی به این کد ارائه شده است:\n",
    "\n",
    "1. یک: `custom_css`: یک رشته HTML است که حاوی کدهای CSS است. این کدها به وسیله تگ `<style>` تعریف شده‌اند.\n",
    "\n",
    "2. دو: `.tabless { text-align: center; }`: یک کلاس به نام `tabless` تعریف شده است که مشخص می‌کند که متن (text) داخل عناصر با این کلاس (مانند `div`, `p`, و ...) باید وسط چین باشد.\n",
    "\n",
    "3. سه: `td, th { text-align: center; }`: مشخص می‌کند که متن داخل سلول‌های `td` و `th` باید وسط چین باشد.\n",
    "\n",
    "4. چهار: `st.markdown(custom_css, unsafe_allow_html=True)`: با استفاده از `st.markdown`، کدهای CSS به صورت HTML در Streamlit نمایش داده می‌شوند. مهم است که `unsafe_allow_html=True` را اضافه کنید تا Streamlit به شما این امکان را بدهد که کدهای HTML را اجرا کنید (به دلیل محدودیت‌های امنیتی، این امکان به صورت پیش‌فرض غیرفعال است).\n",
    "\n",
    "5. پنج: `st.table(state)`: از `st.table` برای نمایش جدول استفاده شده است که `state` به عنوان ورودی گرفته می‌شود. این تابع در Streamlit یک جدول از اطلاعات را نمایش می‌دهد.\n",
    "\n",
    "در نهایت، این کد با اعمال کدهای CSS، متن داخل سلول‌ها را وسط چین می‌کند تا جدول به نمایش در Streamlit بیاید."
   ],
   "metadata": {
    "collapsed": false
   },
   "id": "6c52e060a5a7bef5"
  },
  {
   "cell_type": "code",
   "execution_count": 4,
   "outputs": [],
   "source": [
    "def heuristic_1(state, goal_state):\n",
    "    count = sum(1 for i in range(3) for j in range(3) if state[i][j] != goal_state[i][j] and state[i][j] != 0)\n",
    "    return count"
   ],
   "metadata": {
    "collapsed": false,
    "ExecuteTime": {
     "end_time": "2023-11-28T18:37:18.970193200Z",
     "start_time": "2023-11-28T18:37:18.963702200Z"
    }
   },
   "id": "e7d5b5629b64cac2"
  },
  {
   "cell_type": "markdown",
   "source": [
    "درمورد heuristic_1 باید بگم که این هیوریستیک براساس کمترین مکان های اشتباه کار می کند. به عبارتی تمامی ورودی هارا چک میکند که آیا ورودی ها در جای درست خودشان طبق goal_state قرار دارند یا خیر.\n",
    " این کد یک تابع به نام `heuristic_1` برای محاسبه مقدار هیوریستیک مربوط به الگوریتم جستجوی مطلع (Informed Search) استفاده می‌شود. در اینجا توضیحات جزیی به این کد ارائه شده است:\n",
    "\n",
    "1. یک: `def heuristic_1(state, goal_state)`: تابع `heuristic_1` با دو ورودی `state` و `goal_state` تعریف شده است.\n",
    "\n",
    "2. دو: `count = sum(1 for i in range(3) for j in range(3) if state[i][j] != goal_state[i][j] and state[i][j] != 0)`: این خط کد یک عبارت تکراری با استفاده از `sum` اجرا می‌کند تا تعداد خانه‌هایی را که در `state` با `goal_state` متفاوت هستند (برای مکان‌های غیر صفر) را بشمارد. به این تعداد خانه‌ها \"مکان‌های اشتباه\" می‌گویند.\n",
    "\n",
    "3. سه: `state[i][j] != goal_state[i][j] and state[i][j] != 0`: این شرط بررسی می‌کند که آیا مقدار متناظر با خانه مورد نظر در `state` با مقدار متناظر در `goal_state` متفاوت است و همچنین مقدار متناظر با آن خانه در `state` صفر نیست. این به این دلیل است که در حالتی که مقدار خانه در `state` صفر باشد، به معنای این است که جایگاه خالی است و نباید به عنوان مکان اشتباه محسوب شود.\n",
    "\n",
    "4. جهار: `sum(1 for i in range(3) for j in range(3) if ... )`: از `sum` برای جمع‌آوری تعداد مکان‌های اشتباه استفاده شده است.\n",
    "\n",
    "5. چنج: `return count`: تعداد مکان‌های اشتباه به عنوان مقدار هیوریستیک برگردانده می‌شود.\n",
    "\n",
    "به طور خلاصه، این هیوریستیک با شمارش تعداد مکان‌هایی که مقدار آنها در `state` با مقدار متناظر در `goal_state` متفاوت است، کمک می‌کند تا میزان اشتباه در حالت فعلی را اندازه‌گیری کند. ا"
   ],
   "metadata": {
    "collapsed": false
   },
   "id": "cc5929da4cc2e300"
  },
  {
   "cell_type": "code",
   "execution_count": 5,
   "outputs": [],
   "source": [
    "def heuristic_2(state, goal_state):\n",
    "    distance = sum(abs(row - i) + abs(col - j) for i in range(3) for j in range(3) if state[i][j] != 0\n",
    "                   for row, col in [divmod(state[i][j] - 1, 3)])\n",
    "    return distance"
   ],
   "metadata": {
    "collapsed": false,
    "ExecuteTime": {
     "end_time": "2023-11-28T18:37:19.509733500Z",
     "start_time": "2023-11-28T18:37:19.503102200Z"
    }
   },
   "id": "d2d82045337dd495"
  },
  {
   "cell_type": "markdown",
   "source": [
    "این تابع به نام `heuristic_2` یک هیوریستیک مبتنی بر فاصله منهتن (Manhattan) برای الگوریتم‌های جستجوی مطلع (Informed Search) استفاده می‌شود. در زیر توضیحات جزیی به این تابع ارائه شده است:\n",
    "\n",
    "1. یک: `def heuristic_2(state, goal_state)`: تابع `heuristic_2` با دو ورودی `state` و `goal_state` تعریف شده است.\n",
    "\n",
    "2. دو: `distance = sum(abs(row - i) + abs(col - j) for i in range(3) for j in range(3) if state[i][j] != 0 for row, col in [divmod(state[i][j] - 1, 3)])`: این خط کد یک عبارت تکراری با استفاده از `sum` اجرا می‌کند تا فاصله منهتن را محاسبه کند. این فاصله توسط مجموع مطلق اختلافات در مختصات سطر و ستون هر خانه از ماتریس `state` تا مختصات مربوط به آن خانه در `goal_state` به دست می‌آید.\n",
    "\n",
    "3. سه: `for i in range(3) for j in range(3) if state[i][j] != 0`: یک حلقه دوتایی برای تمام خانه‌های غیر صفر در `state` شروع می‌شود.\n",
    "\n",
    "4. چهار: `for row, col in [divmod(state[i][j] - 1, 3)]`: یک حلقه تکتایی برای تعیین مختصات مربوط به مقدار خانه (state[i][j]) در `goal_state` استفاده می‌شود. مختصات این خانه در `goal_state` از روی مقدار خانه در `state` به دست می‌آید.\n",
    "\n",
    "5. پنج: `abs(row - i) + abs(col - j)`: اختلاف مطلق مختصات سطر و ستون بین موقعیت خانه در `state` و موقعیت متناظر در `goal_state`.\n",
    "\n",
    "6. شش: `sum(...)`: جمع تمام مقادیر فاصله منهتن محاسبه شده.\n",
    "\n",
    "7. هفت: `return distance`: مقدار فاصله منهتن به عنوان مقدار هیوریستیک برگردانده می‌شود.\n"
   ],
   "metadata": {
    "collapsed": false
   },
   "id": "7733e75a74bfdab0"
  },
  {
   "cell_type": "code",
   "execution_count": 6,
   "outputs": [],
   "source": [
    "def generate_neighbors(current_state):\n",
    "    neighbors = []\n",
    "    zero_row, zero_col = next((i, j) for i, row in enumerate(current_state) for j, val in enumerate(row) if val == 0)\n",
    "    for move in [(0, -1), (0, 1), (-1, 0), (1, 0)]:\n",
    "        new_row, new_col = zero_row + move[0], zero_col + move[1]\n",
    "        if 0 <= new_row < 3 and 0 <= new_col < 3:\n",
    "            new_state = copy.deepcopy(current_state)\n",
    "            new_state[zero_row][zero_col], new_state[new_row][new_col] = new_state[new_row][new_col], \\\n",
    "                new_state[zero_row][zero_col]\n",
    "            neighbors.append(new_state)\n",
    "    return neighbors"
   ],
   "metadata": {
    "collapsed": false,
    "ExecuteTime": {
     "end_time": "2023-11-28T18:37:20.102028800Z",
     "start_time": "2023-11-28T18:37:20.097039100Z"
    }
   },
   "id": "c96bfa30e40cab79"
  },
  {
   "cell_type": "markdown",
   "source": [
    "تابع `generate_neighbors` در یک الگوریتم جستجوی محلی (Local Search)، به خصوص در الگوریتم Hill Climbing کاربرد دارد. این تابع وظیفه تولید حالات مجاور یک حالت فعلی (current state) را برعهده دارد. در اصطلاحات الگوریتم‌های جستجو، این حالات مجاور \"مهمان‌ها\" یا \"همسایگان\" نامیده می‌شوند. در اینجا توضیحات جزیی به کد ارائه شده است:\n",
    "\n",
    "1. یک: `def generate_neighbors(current_state)`: تابع `generate_neighbors` با ورودی `current_state` تعریف شده است.\n",
    "\n",
    "2. دو: `neighbors = []`: یک لیست خالی به نام `neighbors` برای ذخیره حالات مجاور ایجاد می‌شود.\n",
    "\n",
    "3. سه: `zero_row, zero_col = next((i, j) for i, row in enumerate(current_state) for j, val in enumerate(row) if val == 0)`: مختصات سطر و ستون خانه خالی (صفر) در `current_state` را به دست می‌آورد. این اطلاعات برای جابه‌جایی مکان خالی با موقعیت‌های مجاور آن استفاده می‌شود.\n",
    "\n",
    "4. چهار: `for move in [(0, -1), (0, 1), (-1, 0), (1, 0)]:`: یک حلقه `for` برای تعیین حرکت‌های ممکن به سمت‌های بالا، پایین، چپ، و راست (مشخص شده توسط `(0, -1)`, `(0, 1)`, `(-1, 0)`, و `(1, 0)`) شروع می‌شود.\n",
    "\n",
    "5. پنج: `new_row, new_col = zero_row + move[0], zero_col + move[1]`: با استفاده از مختصات مکان خالی و حرکت تعیین شده، مختصات مکان جدید را محاسبه می‌کند.\n",
    "\n",
    "6. شش: `if 0 <= new_row < 3 and 0 <= new_col < 3:`: یک شرط بررسی می‌کند که آیا مکان جدید داخل محدوده ماتریس 3 در 3 است یا خیر.\n",
    "\n",
    "7. هفت: `new_state = copy.deepcopy(current_state)`: یک کپی عمیق از `current_state` ایجاد می‌شود تا تغییرات در مکان‌های جدید اعمال شود.\n",
    "\n",
    "8. هشت: `new_state[zero_row][zero_col], new_state[new_row][new_col] = new_state[new_row][new_col], new_state[zero_row][zero_col]`: مکان خالی با مکان جدید جابه‌جا می‌شود.\n",
    "\n",
    "9. نه: `neighbors.append(new_state)`: حالت جدید به لیست `neighbors` اضافه می‌شود.\n",
    "\n",
    "10. ده: `return neighbors`: لیست حالات مجاور تولید شده به عنوان خروجی تابع برگردانده می‌شود.\n",
    "\n",
    "در کل، تابع `generate_neighbors` وظیفه ایجاد و بازگرداندن حالات مجاور یک حالت فعلی را دارد. این کار به کمک جابه‌جایی مکان خالی با مکان‌های مجاور آن انجام می‌شود. ا"
   ],
   "metadata": {
    "collapsed": false
   },
   "id": "9a0bd02f73e78edf"
  },
  {
   "cell_type": "code",
   "execution_count": 7,
   "outputs": [],
   "source": [
    "def hill_climbing(state, heuristic, goal_state):\n",
    "    current_state = state\n",
    "    path = [current_state]\n",
    "    moves = 0\n",
    "    while True:\n",
    "        neighbors = generate_neighbors(current_state)\n",
    "        neighbor_scores = [(neighbor, heuristic(neighbor, goal_state)) for neighbor in neighbors]\n",
    "        neighbor_scores.sort(key=lambda x: x[1])\n",
    "        if neighbor_scores[0][1] >= heuristic(current_state, goal_state):\n",
    "            break\n",
    "        else:\n",
    "            current_state = neighbor_scores[0][0]\n",
    "            path.append(current_state)\n",
    "            moves += 1\n",
    "    return current_state, moves, path"
   ],
   "metadata": {
    "collapsed": false,
    "ExecuteTime": {
     "end_time": "2023-11-28T18:37:20.886145400Z",
     "start_time": "2023-11-28T18:37:20.879588500Z"
    }
   },
   "id": "ed496e47d3de1bb1"
  },
  {
   "cell_type": "markdown",
   "source": [
    "این کد یک تابع به نام `hill_climbing` برای اجرای الگوریتم جستجوی تپه‌ای (Hill Climbing) با استفاده از یک هیوریستیک مشخص شده است. در زیر توضیحات جزیی به این کد ارائه شده است:\n",
    "\n",
    "1. یک: `def hill_climbing(state, heuristic, goal_state)`: تابع `hill_climbing` با سه ورودی تعریف شده است: `state` (حالت اولیه)، `heuristic` (تابع هیوریستیک مورد استفاده) و `goal_state` (حالت هدف).\n",
    "\n",
    "2. دو: `current_state = state`: حالت فعلی با حالت اولیه مساوی می‌شود.\n",
    "\n",
    "3. سه: `path = [current_state]`: یک لیست به نام `path` ایجاد می‌شود که حالت اولیه به عنوان اولین عنصر آن افزوده می‌شود. این لیست برای ذخیره مسیر پیموده شده توسط الگوریتم استفاده می‌شود.\n",
    "\n",
    "4. چهار: `moves = 0`: تعداد حرکات انجام شده به صورت اولیه صفر تنظیم می‌شود.\n",
    "\n",
    "5. پنج: `while True:`: یک حلقه بی‌پایان آغاز می‌شود که تا زمانی که یک شرط خاص فعال باشد، ادامه می‌یابد.\n",
    "\n",
    "6. شش: `neighbors = generate_neighbors(current_state)`: حالات مجاور حالت فعلی با استفاده از تابع `generate_neighbors` تولید می‌شوند.\n",
    "\n",
    "7.هفت:  `neighbor_scores = [(neighbor, heuristic(neighbor, goal_state)) for neighbor in neighbors]`: برای هر حالت مجاور، امتیاز محاسبه شده توسط تابع هیوریستیک برای آن حالت ذخیره می‌شود.\n",
    "\n",
    "8. هشت: `neighbor_scores.sort(key=lambda x: x[1])`: لیست حالات مجاور بر اساس امتیازها مرتب می‌شود.\n",
    "\n",
    "9. نه: `if neighbor_scores[0][1] >= heuristic(current_state, goal_state):`: اگر امتیاز حالت مجاور با بالاترین امتیاز حالت فعلی یا مساوی باشد، حلقه متوقف می‌شود.\n",
    "\n",
    "10. ده: `else:`: در غیر این صورت:\n",
    "\n",
    "    - ا: `current_state = neighbor_scores[0][0]`: حالت فعلی با حالت مجاور با بالاترین امتیاز جابه‌جا می‌شود.\n",
    "    - ا: `path.append(current_state)`: حالت فعلی به مسیر اضافه می‌شود.\n",
    "    - ا: `moves += 1`: تعداد حرکات انجام شده افزایش می‌یابد.\n",
    "\n",
    "11. یازده:`return current_state, moves, path`: حالت نهایی، تعداد حرکات انجام شده، و مسیر پیموده شده تا حالت هدف به عنوان خروجی تابع برگردانده می‌شود.\n",
    "\n",
    "در کل، تابع `hill_climbing` الگوریتم جستجوی تپه‌ای را با استفاده از تابع هیوریستیک مشخص شده اجرا می‌کند تا به حالت هدف برسد. این الگوریتم در هر مرحله بهترین حالت مجاور را انتخاب می‌کند و اگر به حالتی برسد که امتیاز آن با امتیاز حالت فعلی یا بیشتر باشد، الگوریتم متوقف می‌شود."
   ],
   "metadata": {
    "collapsed": false
   },
   "id": "1e0cd0e2d58c6903"
  },
  {
   "cell_type": "code",
   "execution_count": 8,
   "outputs": [],
   "source": [
    "def main():\n",
    "    st.title(\"Puzzle Solver with hill climbing\")\n",
    "    st.header(\"Goal State:\")\n",
    "    goal_state = [[1, 2, 3], [4, 5, 6], [7, 8, 0]]\n",
    "    print_table(goal_state)\n",
    "\n",
    "    st.header(\"Template Puzzle:\")\n",
    "    template_state = [[\"z[0,0]\", \"z[0,1]\", \"z[0,2]\"], [\"z[1,0]\", \"z[1,1]\", \"z[1,2]\"], [\"z[2,0]\", \"z[2,1]\", \"z[2,2]\"]]\n",
    "    print_table(template_state)\n",
    "\n",
    "    st.write(\"\\n---------------------------\\n\")\n",
    "    st.header(\"Initial puzzle:\")\n",
    "    initial_state = create_initial_state()\n",
    "    print_table(initial_state)\n",
    "    initial_state_h1 = copy.deepcopy(initial_state)\n",
    "    result_h1, moves_h1, path_h1 = hill_climbing(initial_state_h1, heuristic_1, goal_state)\n",
    "    st.write(\"\\n---------------------------\\n\")\n",
    "    st.header(\"Results for h1 heuristic:\")\n",
    "    st.write(\"Final puzzle mode:\")\n",
    "    print_table(result_h1)\n",
    "    st.write(\"Number of moves made:\", moves_h1)\n",
    "    st.write(\"Path:\")\n",
    "    for i, state in enumerate(path_h1):\n",
    "        st.write(f\"step {i}:\")\n",
    "        print_table(state)\n",
    "\n",
    "    initial_state_h2 = copy.deepcopy(initial_state)\n",
    "    result_h2, moves_h2, path_h2 = hill_climbing(initial_state_h2, heuristic_2, goal_state)\n",
    "    st.write(\"\\n---------------------------\\n\")\n",
    "    st.header(\"Results for h2 heuristic:\")\n",
    "    st.write(\"Final puzzle mode:\")\n",
    "    print_table(result_h2)\n",
    "    st.write(\"Number of moves made:\", moves_h2)\n",
    "    st.write(\"The path obtained:\")\n",
    "    for i, state in enumerate(path_h2):\n",
    "        st.write(f\"step {i}:\")\n",
    "        print_table(state)"
   ],
   "metadata": {
    "collapsed": false,
    "ExecuteTime": {
     "end_time": "2023-11-28T18:37:21.914703400Z",
     "start_time": "2023-11-28T18:37:21.902941700Z"
    }
   },
   "id": "a251e66958dca08"
  },
  {
   "cell_type": "code",
   "execution_count": null,
   "outputs": [],
   "source": [
    "if __name__ == \"__main__\":\n",
    "    main()"
   ],
   "metadata": {
    "collapsed": false
   },
   "id": "5b712c4da56cb27d"
  }
 ],
 "metadata": {
  "kernelspec": {
   "display_name": "Python 3",
   "language": "python",
   "name": "python3"
  },
  "language_info": {
   "codemirror_mode": {
    "name": "ipython",
    "version": 2
   },
   "file_extension": ".py",
   "mimetype": "text/x-python",
   "name": "python",
   "nbconvert_exporter": "python",
   "pygments_lexer": "ipython2",
   "version": "2.7.6"
  }
 },
 "nbformat": 4,
 "nbformat_minor": 5
}
